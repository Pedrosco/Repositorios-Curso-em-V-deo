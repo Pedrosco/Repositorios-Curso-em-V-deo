{
  "nbformat": 4,
  "nbformat_minor": 0,
  "metadata": {
    "colab": {
      "name": "Contador de maioridade - Exercicio 54.ipynb",
      "provenance": [],
      "authorship_tag": "ABX9TyM0wEglyhVN4Il7cJ0wCc5Z",
      "include_colab_link": true
    },
    "kernelspec": {
      "name": "python3",
      "display_name": "Python 3"
    },
    "language_info": {
      "name": "python"
    }
  },
  "cells": [
    {
      "cell_type": "markdown",
      "metadata": {
        "id": "view-in-github",
        "colab_type": "text"
      },
      "source": [
        "<a href=\"https://colab.research.google.com/github/Pedrosco/Repositorios-Curso-em-V-deo/blob/main/Contador_de_maioridade_Exercicio_54.ipynb\" target=\"_parent\"><img src=\"https://colab.research.google.com/assets/colab-badge.svg\" alt=\"Open In Colab\"/></a>"
      ]
    },
    {
      "cell_type": "code",
      "metadata": {
        "id": "Ykjgv7z5cRLQ",
        "colab": {
          "base_uri": "https://localhost:8080/"
        },
        "outputId": "06ccefa5-60cd-4e43-b921-768ddab52ce0"
      },
      "source": [
        "#Conta a idade do usuário\n",
        "cont = 0\n",
        "cont1 = 0\n",
        "ano_atual - 2021\n",
        "\n",
        "#loop para contar o ano de nascimento e a quantidade\n",
        "for c in range(0,6):\n",
        "  ano_nasc = int(input('Digite aqui o ano do seu nascimento: '))\n",
        "  if (ano_atual - ano_nasc) >= 18:\n",
        "    cont += 1\n",
        "  else:\n",
        "    cont1 += 1\n",
        "\n",
        "print(f'Em, {ano_atual}, {cont} atingiram a maioridade e {cont1} não atingiram')"
      ],
      "execution_count": 30,
      "outputs": [
        {
          "output_type": "stream",
          "name": "stdout",
          "text": [
            "Digite aqui o ano do seu nascimento: 2000\n",
            "Digite aqui o ano do seu nascimento: 1999\n",
            "2 atingiram a maioridade e 0 não atingiram\n"
          ]
        }
      ]
    }
  ]
}