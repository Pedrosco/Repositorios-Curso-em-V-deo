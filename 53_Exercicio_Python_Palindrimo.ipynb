{
  "nbformat": 4,
  "nbformat_minor": 0,
  "metadata": {
    "colab": {
      "name": "53 - Exercicio Python - Palindrimo.ipynb",
      "provenance": [],
      "authorship_tag": "ABX9TyPpdx3nqlvgt/eyioURbHor",
      "include_colab_link": true
    },
    "kernelspec": {
      "name": "python3",
      "display_name": "Python 3"
    },
    "language_info": {
      "name": "python"
    }
  },
  "cells": [
    {
      "cell_type": "markdown",
      "metadata": {
        "id": "view-in-github",
        "colab_type": "text"
      },
      "source": [
        "<a href=\"https://colab.research.google.com/github/Pedrosco/Repositorios-Curso-em-V-deo/blob/main/53_Exercicio_Python_Palindrimo.ipynb\" target=\"_parent\"><img src=\"https://colab.research.google.com/assets/colab-badge.svg\" alt=\"Open In Colab\"/></a>"
      ]
    },
    {
      "cell_type": "code",
      "metadata": {
        "colab": {
          "base_uri": "https://localhost:8080/"
        },
        "id": "kcNVoUZCLovN",
        "outputId": "41aed7c5-398f-44c7-b6f6-e2ed6c22a615"
      },
      "source": [
        "frase = str(input('Qual é a frase? ')).strip().upper()\n",
        "palavra = frase.split()\n",
        "junto = frase.join(palavra)\n",
        "inverso = ''\n",
        "\n",
        "for letra in range(len(junto) -1, -1, -1):\n",
        "    inverso += junto[letra]\n",
        "if inverso  == junto:\n",
        "    print(f'Sua frase ao contrário é {inverso}')\n",
        "    print(f'Essa frase é um palíndromo')\n",
        "else:\n",
        "    print(f'Sua frase ao contrário é {inverso}')\n",
        "    print(f'Essa frase não é um palindromo')\n"
      ],
      "execution_count": 4,
      "outputs": [
        {
          "output_type": "stream",
          "name": "stdout",
          "text": [
            "Qual é a frase? pedro\n",
            "Sua frase ao contrário é ORDEP\n",
            "Essa frase não é um palindromo\n"
          ]
        }
      ]
    }
  ]
}